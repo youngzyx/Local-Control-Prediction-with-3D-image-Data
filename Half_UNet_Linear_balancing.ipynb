{
 "cells": [
  {
   "cell_type": "code",
   "execution_count": 1,
   "metadata": {
    "scrolled": false
   },
   "outputs": [
    {
     "name": "stderr",
     "output_type": "stream",
     "text": [
      "/usr/local/share/anaconda3/envs/shared_env/lib/python3.8/site-packages/tqdm/auto.py:22: TqdmWarning: IProgress not found. Please update jupyter and ipywidgets. See https://ipywidgets.readthedocs.io/en/stable/user_install.html\n",
      "  from .autonotebook import tqdm as notebook_tqdm\n"
     ]
    }
   ],
   "source": [
    "import numpy as np\n",
    "import pandas as pd\n",
    "import random\n",
    "\n",
    "from tqdm import tqdm\n",
    "import torch\n",
    "from torch.utils.data import TensorDataset, DataLoader,Dataset\n",
    "import torch.nn as nn\n",
    "import torch.nn.functional as F\n",
    "import torchvision\n",
    "import torchvision.transforms as transforms\n",
    "\n",
    "from skimage.transform import resize\n",
    "from sklearn.metrics import roc_auc_score,recall_score,precision_score\n",
    "import albumentations as A\n",
    "\n",
    "from pathlib import Path\n",
    "# import SimpleITK as sitk\n",
    "# import pydicom\n",
    "import os,sys\n",
    "import matplotlib.pyplot as plt\n",
    "# import cv2"
   ]
  },
  {
   "cell_type": "markdown",
   "metadata": {},
   "source": [
    "## Setup GPU"
   ]
  },
  {
   "cell_type": "code",
   "execution_count": 4,
   "metadata": {},
   "outputs": [
    {
     "data": {
      "text/plain": [
       "device(type='cuda', index=6)"
      ]
     },
     "execution_count": 4,
     "metadata": {},
     "output_type": "execute_result"
    }
   ],
   "source": [
    "# os.environ['CUDA_VISIBLE_DEVICES'] = '0,1,2,3'\n",
    "# device = torch.device(\"cuda\" if torch.cuda.is_available() else \"cpu\") ## specify the GPU id's, GPU id's start from 0.\n",
    "device = torch.device(\"cuda:6\" if torch.cuda.is_available() else \"cpu\")\n",
    "device"
   ]
  },
  {
   "cell_type": "markdown",
   "metadata": {},
   "source": [
    "## Load Data"
   ]
  },
  {
   "cell_type": "code",
   "execution_count": 5,
   "metadata": {},
   "outputs": [
    {
     "name": "stderr",
     "output_type": "stream",
     "text": [
      "/tmp/ipykernel_34283/325357892.py:1: DtypeWarning: Columns (9,27,45,59,60,61,76,93,94,98,101,108,112,113,120) have mixed types. Specify dtype option on import or set low_memory=False.\n",
      "  meta = pd.read_csv('../zhout/Documents/mask_vol_all.csv')\n"
     ]
    }
   ],
   "source": [
    "meta = pd.read_csv('../zhout/Documents/mask_vol_all.csv')\n",
    "meta['file_path'] = meta['PiCare PatientID'] + '_'+ meta['StudyDateAnon'].str.replace('-','') "
   ]
  },
  {
   "cell_type": "code",
   "execution_count": 7,
   "metadata": {},
   "outputs": [
    {
     "data": {
      "text/plain": [
       "(8461, 125)"
      ]
     },
     "execution_count": 7,
     "metadata": {},
     "output_type": "execute_result"
    }
   ],
   "source": [
    "meta.shape"
   ]
  },
  {
   "cell_type": "code",
   "execution_count": 8,
   "metadata": {
    "scrolled": true
   },
   "outputs": [
    {
     "data": {
      "text/plain": [
       "0    7768\n",
       "1     693\n",
       "Name: Failure-binary, dtype: int64"
      ]
     },
     "execution_count": 8,
     "metadata": {},
     "output_type": "execute_result"
    }
   ],
   "source": [
    "meta['Failure-binary'].value_counts()"
   ]
  },
  {
   "cell_type": "markdown",
   "metadata": {},
   "source": [
    "This is an unbalanced data, so we randomly select same number of negative data to make it balance."
   ]
  },
  {
   "cell_type": "code",
   "execution_count": 9,
   "metadata": {},
   "outputs": [],
   "source": [
    "def data_ratio(df,target = 'Failure-binary', ratio = 0.5):\n",
    "    \"ratio = positive/all\"\n",
    "    positive = df[df[target]==1]\n",
    "    negative = df[df[target]==1]\n",
    "    neg_ratio = 1-ratio\n",
    "    "
   ]
  },
  {
   "cell_type": "code",
   "execution_count": 10,
   "metadata": {},
   "outputs": [],
   "source": [
    "positive = meta[meta['Failure-binary']==1]"
   ]
  },
  {
   "cell_type": "code",
   "execution_count": 11,
   "metadata": {},
   "outputs": [],
   "source": [
    "negative = meta[meta['Failure-binary']==0]\n",
    "negative_samples = negative.sample(n = positive.shape[0])"
   ]
  },
  {
   "cell_type": "code",
   "execution_count": 12,
   "metadata": {},
   "outputs": [
    {
     "data": {
      "text/plain": [
       "(1386, 125)"
      ]
     },
     "execution_count": 12,
     "metadata": {},
     "output_type": "execute_result"
    }
   ],
   "source": [
    "data = pd.concat([positive,negative_samples])\n",
    "data = data.sample(frac=1).reset_index(drop=True)\n",
    "data.shape"
   ]
  },
  {
   "cell_type": "code",
   "execution_count": 10,
   "metadata": {},
   "outputs": [],
   "source": [
    "#data = data[:100]"
   ]
  },
  {
   "cell_type": "markdown",
   "metadata": {},
   "source": [
    "### Dataset"
   ]
  },
  {
   "cell_type": "code",
   "execution_count": 13,
   "metadata": {},
   "outputs": [],
   "source": [
    "image_path = data['image_path']\n",
    "mask_path = data['mask_path']"
   ]
  },
  {
   "cell_type": "code",
   "execution_count": 14,
   "metadata": {},
   "outputs": [],
   "source": [
    "idx = 0\n",
    "image_array = np.load(image_path[idx])\n",
    "mask_array = np.load(mask_path[idx])"
   ]
  },
  {
   "cell_type": "code",
   "execution_count": 15,
   "metadata": {},
   "outputs": [],
   "source": [
    "transforms = A.Compose([\n",
    "                # spatial transforms\n",
    "                A.RandomCrop(width=256, height=256),\n",
    "                A.HorizontalFlip(p=.5),\n",
    "                A.VerticalFlip(p=.5),\n",
    "                A.Rotate(limit = 10, \n",
    "                        value = 0.0, p = .5),\n",
    "            ])"
   ]
  },
  {
   "cell_type": "code",
   "execution_count": 16,
   "metadata": {},
   "outputs": [],
   "source": [
    "img_array = resize(image_array,(32,128,128))\n",
    "msk_array = resize(mask_array,(32,128,128))\n",
    "stack_image = np.stack([img_array,msk_array]).transpose()"
   ]
  },
  {
   "cell_type": "code",
   "execution_count": 15,
   "metadata": {
    "scrolled": false
   },
   "outputs": [
    {
     "data": {
      "text/plain": [
       "<matplotlib.image.AxesImage at 0x7ff6d9dc0a60>"
      ]
     },
     "execution_count": 15,
     "metadata": {},
     "output_type": "execute_result"
    },
    {
     "data": {
      "image/png": "[encoded data removed]",
      "text/plain": [
       "<Figure size 432x288 with 2 Axes>"
      ]
     },
     "metadata": {
      "needs_background": "light"
     },
     "output_type": "display_data"
    }
   ],
   "source": [
    "slice_idx = 18\n",
    "\n",
    "plt.subplot(1,2,1)\n",
    "plt.imshow(img_array[slice_idx])\n",
    "\n",
    "plt.subplot(1,2,2)\n",
    "plt.imshow(msk_array[slice_idx])"
   ]
  },
  {
   "cell_type": "code",
   "execution_count": 16,
   "metadata": {
    "scrolled": true
   },
   "outputs": [
    {
     "data": {
      "text/plain": [
       "<matplotlib.image.AxesImage at 0x7ff6d9c40fa0>"
      ]
     },
     "execution_count": 16,
     "metadata": {},
     "output_type": "execute_result"
    },
    {
     "data": {
      "image/png": "[encoded data removed]",
      "text/plain": [
       "<Figure size 432x288 with 2 Axes>"
      ]
     },
     "metadata": {
      "needs_background": "light"
     },
     "output_type": "display_data"
    }
   ],
   "source": [
    "trasimg = transforms(image = img_array.transpose(),mask = msk_array.transpose())\n",
    "# print(trans_img)\n",
    "# tranim = a.transpose()\n",
    "plt.subplot(1,2,1)\n",
    "plt.imshow(trasimg['image'].transpose()[slice_idx])\n",
    "\n",
    "plt.subplot(1,2,2)\n",
    "plt.imshow(trasimg['mask'].transpose()[slice_idx])"
   ]
  },
  {
   "cell_type": "code",
   "execution_count": 17,
   "metadata": {},
   "outputs": [],
   "source": [
    "def read_image_resize(path,image_size):\n",
    "    images = []\n",
    "    for image in tqdm(path):\n",
    "        single_image = np.load(image)\n",
    "        ### Resize and transform the image\n",
    "        resized_single_image = np.swapaxes(resize(single_image,image_size),2,0)\n",
    "        images.append(resized_single_image)\n",
    "    return images "
   ]
  },
  {
   "cell_type": "code",
   "execution_count": 18,
   "metadata": {},
   "outputs": [],
   "source": [
    "class BrainMetDataset(Dataset):\n",
    "    def __init__(self, image_path, mask_path, labels, transform = True, img_size = (32,128,128),load_ram = True):\n",
    "        self.load_ram = load_ram\n",
    "        if load_ram == True:\n",
    "            self.image = read_image_resize(image_path,img_size)\n",
    "            self.mask = read_image_resize(mask_path,img_size)\n",
    "        else:\n",
    "            self.image_path = image_path\n",
    "            self.mask_path = mask_path\n",
    "            \n",
    "        self.labels = labels\n",
    "        self.img_size = img_size\n",
    "        if transform == True:\n",
    "            self.transformation = A.Compose([\n",
    "                # spatial transforms\n",
    "                A.RandomCrop(width=128, height=128),\n",
    "                A.HorizontalFlip(p=.5),\n",
    "                A.VerticalFlip(p=.5),\n",
    "                A.Rotate(limit = 10, \n",
    "                        value = 0.0, p = .5)])\n",
    "        else:\n",
    "            self.transformation = A.Compose([])\n",
    "        \n",
    "    def __len__(self):\n",
    "        return len(self.labels)\n",
    "    \n",
    "    def __getitem__(self,index):\n",
    "        y = self.labels[index]\n",
    "        \n",
    "        if self.load_ram == True:\n",
    "            img_array = self.image[index]\n",
    "            msk_array = self.mask[index]\n",
    "\n",
    "        else:\n",
    "            img_array = np.load(self.image_path[index])\n",
    "            msk_array = np.load(self.mask_path[index])\n",
    "\n",
    "            img_array = resize(img_array,self.img_size).transpose()\n",
    "            msk_array = resize(msk_array,self.img_size).transpose()\n",
    "\n",
    "        \n",
    "        trans = self.transformation(image = img_array,mask = msk_array)\n",
    "        trans_img = trans['image'].transpose()\n",
    "        trans_msk = trans['mask'].transpose()\n",
    "        ### output should be torch tensor\n",
    "        return torch.tensor([trans_img,trans_msk],dtype=torch.double), torch.tensor(y,dtype=torch.double)"
   ]
  },
  {
   "cell_type": "code",
   "execution_count": 19,
   "metadata": {},
   "outputs": [],
   "source": [
    "def get_train_valid(subset):\n",
    "    np.random.seed(5)\n",
    "    msk = np.random.rand(len(subset))<0.8\n",
    "    train = subset[msk].reset_index()\n",
    "    valid = subset[~msk].reset_index()\n",
    "    return train,valid\n",
    "\n",
    "def get_paths(train,img_path = 'image_path',msk_path = 'mask_path', label = 'Failure-binary'):\n",
    "    return np.array(train[img_path]),np.array(train[msk_path]),np.array(train[label])\n",
    "    \n",
    "train,valid = get_train_valid(data)\n",
    "# train,valid = get_train_valid(subset)\n",
    "\n",
    "t_img,t_msk,t_label = get_paths(train)\n",
    "v_img,v_msk,v_label = get_paths(valid)"
   ]
  },
  {
   "cell_type": "code",
   "execution_count": 20,
   "metadata": {},
   "outputs": [
    {
     "name": "stderr",
     "output_type": "stream",
     "text": [
      "100%|███████████████████████████████████████| 1112/1112 [09:40<00:00,  1.92it/s]\n",
      "100%|███████████████████████████████████████| 1112/1112 [09:56<00:00,  1.86it/s]\n",
      "100%|█████████████████████████████████████████| 274/274 [02:31<00:00,  1.80it/s]\n",
      "100%|█████████████████████████████████████████| 274/274 [02:33<00:00,  1.78it/s]"
     ]
    },
    {
     "name": "stdout",
     "output_type": "stream",
     "text": [
      "CPU times: user 17min 45s, sys: 2min 38s, total: 20min 23s\n",
      "Wall time: 24min 42s\n"
     ]
    },
    {
     "name": "stderr",
     "output_type": "stream",
     "text": [
      "\n"
     ]
    }
   ],
   "source": [
    "%%time\n",
    "train_ds = BrainMetDataset(t_img,t_msk,t_label)\n",
    "valid_ds = BrainMetDataset(v_img,v_msk,v_label)\n"
   ]
  },
  {
   "cell_type": "code",
   "execution_count": 21,
   "metadata": {},
   "outputs": [],
   "source": [
    "train_dl = DataLoader(train_ds,batch_size=1,shuffle=True)\n",
    "valid_dl = DataLoader(valid_ds,batch_size=1,shuffle=False)"
   ]
  },
  {
   "cell_type": "code",
   "execution_count": 22,
   "metadata": {},
   "outputs": [],
   "source": [
    "a = next(iter(train_dl))"
   ]
  },
  {
   "cell_type": "markdown",
   "metadata": {},
   "source": [
    "## CNN/UNET Model"
   ]
  },
  {
   "cell_type": "code",
   "execution_count": 23,
   "metadata": {},
   "outputs": [],
   "source": [
    "# https://pytorch.org/docs/stable/generated/torch.nn.Conv3d.html\n",
    "\n",
    "\n",
    "class ConvBlock(nn.Module):\n",
    "    def __init__(self, in_channels, out_channels):\n",
    "        super().__init__()\n",
    "        \n",
    "        self.relu = nn.ReLU()\n",
    "        self.conv1 = nn.Conv3d(in_channels, out_channels, f_size, padding=(pad,pad,pad))\n",
    "        self.bn1 = nn.BatchNorm3d(out_channels)\n",
    "        self.conv2 = nn.Conv3d(out_channels, out_channels, f_size, padding=(pad,pad,pad))\n",
    "        self.bn2 = nn.BatchNorm3d(out_channels)\n",
    "\n",
    "    def forward(self, x):\n",
    "        x = self.conv1(x)\n",
    "        x = self.bn1(x)\n",
    "        x = self.relu(x)\n",
    "        \n",
    "        x = self.conv2(x)\n",
    "        x = self.bn2(x)\n",
    "        x = self.relu(x)\n",
    "\n",
    "        return x\n",
    "    \n",
    "    \n",
    "class half_unet(nn.Module):\n",
    "    \n",
    "    def __init__(self, h = 50):\n",
    "        \n",
    "        super().__init__()\n",
    "        \n",
    "        # pooling\n",
    "        self.pool = nn.MaxPool3d(2,2)\n",
    "        \n",
    "        # ENCODER\n",
    "\n",
    "        # block 00 (down)\n",
    "        #self.conv00 = ConvBlock(1+len(masks), channels[0])\n",
    "        self.conv00 = ConvBlock(input_channels, channels[0])\n",
    "        # block 10 (down)\n",
    "        self.conv10 = ConvBlock(channels[0], channels[1])\n",
    "        # block 20 (down)\n",
    "        self.conv20 = ConvBlock(channels[1],channels[2])\n",
    "        # block 30 (down)\n",
    "        self.conv30 = ConvBlock(channels[2],channels[3])\n",
    "        \n",
    "        # final layers\n",
    "        self.final04 = nn.Conv3d(channels[3],1,1)\n",
    "        self.linear1 = nn.Linear(in_features = 8192,out_features=h)\n",
    "        self.linear2 = nn.Linear(in_features = h,out_features=1)\n",
    "        self.relu = nn.ReLU()\n",
    "    \n",
    "    def forward(self, x):\n",
    "        \n",
    "        # Encoder Path\n",
    "        x00 = self.conv00(x)\n",
    "        x10 = self.conv10(self.pool(x00))\n",
    "        x20 = self.conv20(self.pool(x10))\n",
    "        x = self.conv30(self.pool(x20))\n",
    "        \n",
    "\n",
    "        \n",
    "        # Outputs\n",
    "        x = self.final04(x)\n",
    "        x = x.view(x.size(0), -1)#.flatten()\n",
    "        x = self.linear1(x)\n",
    "        x = self.relu(x)\n",
    "        x = self.linear2(x)\n",
    "\n",
    "        return x"
   ]
  },
  {
   "cell_type": "code",
   "execution_count": 24,
   "metadata": {},
   "outputs": [],
   "source": [
    "def train_loop(model,train_dl,valid_dl, optimizer, epochs, loss_best = 1):\n",
    "    for i in range(epochs): ## going through all your training data once\n",
    "        model.train()\n",
    "        losses = []\n",
    "        for x, y in train_dl:\n",
    "            y = y.unsqueeze(1)\n",
    "            x = x.to(device)\n",
    "            y = y.to(device)\n",
    "            y_hat = model(x.float())\n",
    "            loss = F.binary_cross_entropy_with_logits(y_hat, y.float())\n",
    "            optimizer.zero_grad()\n",
    "            loss.backward()\n",
    "            optimizer.step()\n",
    "            losses.append(loss.item())## loss is a tensor of one number, if we call item(), we just keep the number\n",
    "        \n",
    "        model.eval()\n",
    "        train_loss = np.mean(losses)\n",
    "        valid_loss, valid_acc, valid_roc_auc,precision, recall= val_metric(model, valid_dl)\n",
    "        print(\"train loss %.4f valid loss %.4f valid ROC_AUC %.4f valid ACC %.4f valid Precision %.4f valid Recall %.4f\" % \n",
    "              (train_loss, valid_loss,valid_roc_auc,valid_acc,precision,recall))\n",
    "        if valid_loss < loss_best:\n",
    "#             now = datetime.now()\n",
    "#             dt_string = now.strftime(\"%d/%m/%Y-%H:%M:%S\")\n",
    "            checkpoint = {'model_state_dict': model.state_dict(),\n",
    "                          'optimizer_state_dict' :optimizer.state_dict()}\n",
    "            torch.save(checkpoint, 'hu2.pt')\n",
    "            loss_best = valid_loss\n",
    "    return loss_best"
   ]
  },
  {
   "cell_type": "code",
   "execution_count": 25,
   "metadata": {},
   "outputs": [],
   "source": [
    "def val_metric(model, valid_dl):\n",
    "    model.eval()\n",
    "    losses = []\n",
    "    y_preds = []\n",
    "    ys = []\n",
    "    for x, y in valid_dl:  \n",
    "        y = y.unsqueeze(1)\n",
    "        x = x.to(device)\n",
    "        y = y.to(device)\n",
    "        \n",
    "        y_hat = model(x.float())\n",
    "        loss = F.binary_cross_entropy_with_logits(y_hat, y.float())\n",
    "        y = y.cpu()\n",
    "        y_pred = torch.sigmoid(y_hat).cpu()\n",
    "        y_preds.append(y_pred.detach().numpy())\n",
    "        ys.extend(y.detach().numpy()) \n",
    "        losses.append(loss.item())\n",
    "#    print(ys)\n",
    "    ys = np.concatenate(ys)\n",
    "    y_hats = np.concatenate(y_preds)\n",
    "    y_preds_ = np.array([1. if y >=0.5 else 0. for y in y_hats])\n",
    "    correct = (ys == y_preds_).sum()\n",
    "    val_acc = correct/len(ys)\n",
    "    precision = precision_score(ys,y_preds_)\n",
    "    recall = recall_score(ys,y_preds_)\n",
    "#     print(ys,y_preds_,correct)    \n",
    "\n",
    "\n",
    "    return np.mean(losses), val_acc,roc_auc_score(ys,y_hats),precision, recall"
   ]
  },
  {
   "cell_type": "code",
   "execution_count": 38,
   "metadata": {
    "scrolled": false
   },
   "outputs": [
    {
     "name": "stdout",
     "output_type": "stream",
     "text": [
      "CPU times: user 23.7 ms, sys: 15.5 ms, total: 39.1 ms\n",
      "Wall time: 37.6 ms\n"
     ]
    }
   ],
   "source": [
    "%%time\n",
    "\n",
    "try:\n",
    "    del model\n",
    "    # del x,y\n",
    "    del optimizer\n",
    "    torch.cuda.empty_cache()\n",
    "except:\n",
    "    pass\n",
    "\n",
    "def update_learning_rate(optimizer, lr):\n",
    "    for g in optimizer.param_groups:\n",
    "        g['lr'] = lr\n",
    "\n",
    "channels = [2, 4, 8, 16]\n",
    "input_channels = 2\n",
    "f_size = 3\n",
    "pad = int((f_size-1)/2)\n",
    "\n",
    "\n",
    "# model = CNN().to(device)\n",
    "model = half_unet()\n",
    "# model = nn.DataParallel(model, device_ids = [0,1,2,3]).to(device)\n",
    "# model = half_unet().to(device)\n",
    "model = nn.DataParallel(model, device_ids = [6]).to(device)\n",
    "best = 1"
   ]
  },
  {
   "cell_type": "code",
   "execution_count": 39,
   "metadata": {
    "scrolled": true
   },
   "outputs": [],
   "source": [
    "learning_rate = 0.001\n",
    "wd = 1e-4\n",
    "\n",
    "optimizer = torch.optim.Adam(model.parameters(), lr=learning_rate,weight_decay= wd)"
   ]
  },
  {
   "cell_type": "code",
   "execution_count": 40,
   "metadata": {},
   "outputs": [],
   "source": [
    "checkpoint = torch.load('hu1.pt')"
   ]
  },
  {
   "cell_type": "code",
   "execution_count": 41,
   "metadata": {},
   "outputs": [
    {
     "data": {
      "text/plain": [
       "<All keys matched successfully>"
      ]
     },
     "execution_count": 41,
     "metadata": {},
     "output_type": "execute_result"
    }
   ],
   "source": [
    "model.load_state_dict(checkpoint)"
   ]
  },
  {
   "cell_type": "code",
   "execution_count": 42,
   "metadata": {},
   "outputs": [],
   "source": [
    "def load_model(path):\n",
    "    checkpoint = torch.load(path)\n",
    "    \n",
    "    if len(checkpoint)==2:\n",
    "        model.load_state_dict(checkpoint['model_state_dict'])\n",
    "        optimizer.load_state_dict(checkpoint['optimizer_state_dict'])\n",
    "    else:\n",
    "        model.load_state_dict(checkpoint)\n",
    "load_model('hu1.pt')      "
   ]
  },
  {
   "cell_type": "code",
   "execution_count": 43,
   "metadata": {},
   "outputs": [
    {
     "name": "stdout",
     "output_type": "stream",
     "text": [
      "1\n",
      "train loss 0.6958 valid loss 0.6941 valid ROC_AUC 0.5000 valid ACC 0.4672 valid Precision 0.4672 valid Recall 1.0000\n",
      "train loss 0.6934 valid loss 0.6941 valid ROC_AUC 0.5000 valid ACC 0.4672 valid Precision 0.4672 valid Recall 1.0000\n"
     ]
    },
    {
     "name": "stderr",
     "output_type": "stream",
     "text": [
      "/home/zengy/.local/lib/python3.8/site-packages/sklearn/metrics/_classification.py:1318: UndefinedMetricWarning: Precision is ill-defined and being set to 0.0 due to no predicted samples. Use `zero_division` parameter to control this behavior.\n",
      "  _warn_prf(average, modifier, msg_start, len(result))\n"
     ]
    },
    {
     "name": "stdout",
     "output_type": "stream",
     "text": [
      "train loss 0.6910 valid loss 1.8939 valid ROC_AUC 0.4239 valid ACC 0.5328 valid Precision 0.0000 valid Recall 0.0000\n",
      "train loss 0.6972 valid loss 0.6944 valid ROC_AUC 0.4590 valid ACC 0.4672 valid Precision 0.4672 valid Recall 1.0000\n",
      "train loss 0.6938 valid loss 0.6946 valid ROC_AUC 0.5221 valid ACC 0.4672 valid Precision 0.4672 valid Recall 1.0000\n",
      "0.6940772263673101\n",
      "CPU times: user 15h 52min 37s, sys: 3h, total: 18h 52min 38s\n",
      "Wall time: 6h 37min 21s\n"
     ]
    }
   ],
   "source": [
    "%%time\n",
    "print(best) \n",
    "best = train_loop(model,train_dl,valid_dl,optimizer,epochs = 5,loss_best=best)\n",
    "print(best)\n",
    "#mm1.pt"
   ]
  },
  {
   "cell_type": "code",
   "execution_count": 44,
   "metadata": {},
   "outputs": [
    {
     "name": "stdout",
     "output_type": "stream",
     "text": [
      "0.6940772263673101\n",
      "train loss 0.6935 valid loss 0.6944 valid ROC_AUC 0.4497 valid ACC 0.4708 valid Precision 0.4689 valid Recall 1.0000\n",
      "train loss 0.6933 valid loss 0.6944 valid ROC_AUC 0.4959 valid ACC 0.4672 valid Precision 0.4672 valid Recall 1.0000\n",
      "train loss 0.6932 valid loss 0.6942 valid ROC_AUC 0.4583 valid ACC 0.4672 valid Precision 0.4672 valid Recall 1.0000\n",
      "train loss 0.6933 valid loss 0.6940 valid ROC_AUC 0.5260 valid ACC 0.4672 valid Precision 0.4672 valid Recall 1.0000\n",
      "train loss 0.6934 valid loss 0.6942 valid ROC_AUC 0.5205 valid ACC 0.4672 valid Precision 0.4672 valid Recall 1.0000\n",
      "0.694039348485696\n",
      "CPU times: user 16h 5min 35s, sys: 2h 59min 37s, total: 19h 5min 13s\n",
      "Wall time: 6h 8min 47s\n"
     ]
    }
   ],
   "source": [
    "%%time\n",
    "print(best) \n",
    "best = train_loop(model,train_dl,valid_dl,optimizer,epochs = 5,loss_best=best)\n",
    "print(best)\n",
    "#mm1.pt"
   ]
  },
  {
   "cell_type": "code",
   "execution_count": null,
   "metadata": {},
   "outputs": [],
   "source": [
    "# model = unet2().to(device)\n",
    "# m1 = torch.load('m.pt')\n",
    "# model.load_state_dict(m1)"
   ]
  },
  {
   "cell_type": "code",
   "execution_count": null,
   "metadata": {},
   "outputs": [],
   "source": [
    "# model = unet().to(device)\n",
    "# m2 = torch.load('m2.pt')\n",
    "# model.load_state_dict(m2)"
   ]
  },
  {
   "cell_type": "code",
   "execution_count": null,
   "metadata": {},
   "outputs": [
    {
     "name": "stdout",
     "output_type": "stream",
     "text": [
      "0.694039348485696\n",
      "train loss 0.6936 valid loss 0.6936 valid ROC_AUC 0.5568 valid ACC 0.5073 valid Precision 0.4861 valid Recall 0.9531\n"
     ]
    }
   ],
   "source": [
    "%%time\n",
    "#m2.pt\n",
    "print(best) \n",
    "best = train_loop(model,train_dl,valid_dl,optimizer,epochs = 5,loss_best=best)\n",
    "print(best)"
   ]
  },
  {
   "cell_type": "code",
   "execution_count": null,
   "metadata": {},
   "outputs": [],
   "source": [
    "%%time\n",
    "#m3.pt\n",
    "print(best) \n",
    "best = train_loop(model,train_dl,valid_dl,optimizer,epochs = 5,loss_best=best)\n",
    "print(best)"
   ]
  },
  {
   "cell_type": "code",
   "execution_count": null,
   "metadata": {},
   "outputs": [],
   "source": []
  },
  {
   "cell_type": "code",
   "execution_count": null,
   "metadata": {},
   "outputs": [],
   "source": []
  }
 ],
 "metadata": {
  "kernelspec": {
   "display_name": "Python 3 (ipykernel)",
   "language": "python",
   "name": "python3"
  },
  "language_info": {
   "codemirror_mode": {
    "name": "ipython",
    "version": 3
   },
   "file_extension": ".py",
   "mimetype": "text/x-python",
   "name": "python",
   "nbconvert_exporter": "python",
   "pygments_lexer": "ipython3",
   "version": "3.8.12"
  }
 },
 "nbformat": 4,
 "nbformat_minor": 2
}
