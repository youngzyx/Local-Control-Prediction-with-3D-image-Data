{
 "cells": [
  {
   "cell_type": "code",
   "execution_count": 1,
   "metadata": {
    "scrolled": true
   },
   "outputs": [
    {
     "name": "stderr",
     "output_type": "stream",
     "text": [
      "/usr/local/share/anaconda3/envs/shared_env/lib/python3.8/site-packages/tqdm/auto.py:22: TqdmWarning: IProgress not found. Please update jupyter and ipywidgets. See https://ipywidgets.readthedocs.io/en/stable/user_install.html\n",
      "  from .autonotebook import tqdm as notebook_tqdm\n"
     ]
    }
   ],
   "source": [
    "import numpy as np\n",
    "import pandas as pd\n",
    "import random\n",
    "\n",
    "import torch\n",
    "from tqdm import tqdm\n",
    "from torch.utils.data import TensorDataset, DataLoader,Dataset\n",
    "import torch.nn as nn\n",
    "import torch.nn.functional as F\n",
    "import torchvision\n",
    "import torchvision.transforms as transforms\n",
    "\n",
    "from skimage.transform import resize\n",
    "from sklearn.metrics import roc_auc_score\n",
    "import albumentations as A\n",
    "\n",
    "from pathlib import Path\n",
    "# import SimpleITK as sitk\n",
    "# import pydicom\n",
    "import os,sys\n",
    "import matplotlib.pyplot as plt\n",
    "# import cv2"
   ]
  },
  {
   "cell_type": "code",
   "execution_count": 2,
   "metadata": {
    "scrolled": true
   },
   "outputs": [
    {
     "data": {
      "text/plain": [
       "device(type='cuda', index=5)"
      ]
     },
     "execution_count": 2,
     "metadata": {},
     "output_type": "execute_result"
    }
   ],
   "source": [
    "# Figure out whether we have a GPU; if not use the CPU\n",
    "device = torch.device('cuda:5' if torch.cuda.is_available() else 'cpu')\n",
    "device"
   ]
  },
  {
   "cell_type": "code",
   "execution_count": 3,
   "metadata": {},
   "outputs": [
    {
     "name": "stderr",
     "output_type": "stream",
     "text": [
      "/tmp/ipykernel_66425/157537160.py:1: DtypeWarning: Columns (9,27,45,59,60,61,76,93,94,98,101,108,112,113,120) have mixed types. Specify dtype option on import or set low_memory=False.\n",
      "  meta = pd.read_csv('../zhout/Documents/mask_vol_all.csv')\n"
     ]
    },
    {
     "data": {
      "text/plain": [
       "(8461, 124)"
      ]
     },
     "execution_count": 3,
     "metadata": {},
     "output_type": "execute_result"
    }
   ],
   "source": [
    "meta = pd.read_csv('../zhout/Documents/mask_vol_all.csv')\n",
    "meta.shape"
   ]
  },
  {
   "cell_type": "code",
   "execution_count": 4,
   "metadata": {},
   "outputs": [
    {
     "data": {
      "text/plain": [
       "49"
      ]
     },
     "execution_count": 4,
     "metadata": {},
     "output_type": "execute_result"
    }
   ],
   "source": [
    "meta['file_path'] = meta['PiCare PatientID'] + '_'+ meta['StudyDateAnon'].str.replace('-','') \n",
    "meta = meta.query('mask_volume>1000').reset_index(drop=True)\n",
    "subset = meta.sample(n=50, random_state=29).reset_index(drop=True)\n",
    "subset['PiCare PatientID'].nunique() # each patient has one roi"
   ]
  },
  {
   "cell_type": "code",
   "execution_count": 5,
   "metadata": {},
   "outputs": [
    {
     "data": {
      "text/plain": [
       "(1223, 125)"
      ]
     },
     "execution_count": 5,
     "metadata": {},
     "output_type": "execute_result"
    }
   ],
   "source": [
    "meta.shape"
   ]
  },
  {
   "cell_type": "code",
   "execution_count": 6,
   "metadata": {},
   "outputs": [
    {
     "data": {
      "text/plain": [
       "0    1000\n",
       "1     223\n",
       "Name: Failure-binary, dtype: int64"
      ]
     },
     "execution_count": 6,
     "metadata": {},
     "output_type": "execute_result"
    }
   ],
   "source": [
    "meta['Failure-binary'].value_counts()"
   ]
  },
  {
   "cell_type": "markdown",
   "metadata": {},
   "source": [
    "### Dataset"
   ]
  },
  {
   "cell_type": "code",
   "execution_count": 7,
   "metadata": {},
   "outputs": [],
   "source": [
    "#!pip install -U albumentations"
   ]
  },
  {
   "cell_type": "code",
   "execution_count": 8,
   "metadata": {},
   "outputs": [],
   "source": [
    "from albumentations.pytorch import ToTensorV2\n",
    "import cv2"
   ]
  },
  {
   "cell_type": "code",
   "execution_count": 9,
   "metadata": {},
   "outputs": [],
   "source": [
    "image_path = meta['image_path']\n",
    "mask_path = meta['mask_path']"
   ]
  },
  {
   "cell_type": "code",
   "execution_count": 10,
   "metadata": {},
   "outputs": [],
   "source": [
    "idx = 0\n",
    "image_array = np.load(image_path[idx])\n",
    "mask_array = np.load(mask_path[idx])"
   ]
  },
  {
   "cell_type": "code",
   "execution_count": 11,
   "metadata": {},
   "outputs": [],
   "source": [
    "transforms = A.Compose([\n",
    "                # spatial transforms\n",
    "                A.CenterCrop(width=128, height=128),\n",
    "                A.HorizontalFlip(p=.5),\n",
    "                A.VerticalFlip(p=.5),\n",
    "                A.Rotate(limit = 10, \n",
    "                        value = 0.0, p = .5),\n",
    "            ])"
   ]
  },
  {
   "cell_type": "code",
   "execution_count": 12,
   "metadata": {},
   "outputs": [],
   "source": [
    "img_array = resize(image_array,(32,256,256))\n",
    "msk_array = resize(mask_array,(32,256,256))\n",
    "stack_image = np.stack([img_array,msk_array]).transpose()"
   ]
  },
  {
   "cell_type": "code",
   "execution_count": 13,
   "metadata": {},
   "outputs": [
    {
     "data": {
      "text/plain": [
       "<matplotlib.image.AxesImage at 0x7fe6d05242b0>"
      ]
     },
     "execution_count": 13,
     "metadata": {},
     "output_type": "execute_result"
    },
    {
     "data": {
      "image/png": "[encoded data removed]",
      "text/plain": [
       "<Figure size 432x288 with 1 Axes>"
      ]
     },
     "metadata": {
      "needs_background": "light"
     },
     "output_type": "display_data"
    }
   ],
   "source": [
    "msk_image = img_array*msk_array\n",
    "plt.imshow(msk_image[10],cmap = 'gray')"
   ]
  },
  {
   "cell_type": "code",
   "execution_count": 14,
   "metadata": {
    "scrolled": false
   },
   "outputs": [
    {
     "data": {
      "image/png": "[encoded data removed]",
      "text/plain": [
       "<Figure size 720x1080 with 6 Axes>"
      ]
     },
     "metadata": {
      "needs_background": "light"
     },
     "output_type": "display_data"
    }
   ],
   "source": [
    "slice_idx = 10\n",
    "\n",
    "plt.figure(figsize = (10,15))\n",
    "\n",
    "plt.subplot(3,2,1)\n",
    "plt.imshow(img_array[slice_idx],cmap = 'gray')\n",
    "plt.title('Original MRI Image')\n",
    "\n",
    "\n",
    "plt.subplot(3,2,2)\n",
    "plt.imshow(msk_array[slice_idx],cmap = 'gray')\n",
    "plt.title('Original Tumor Mask')\n",
    "\n",
    "trasimg = transforms(image = img_array.transpose(),mask = msk_array.transpose())\n",
    "# print(trans_img)\n",
    "# tranim = a.transpose()\n",
    "plt.subplot(3,2,3)\n",
    "plt.imshow(trasimg['image'].transpose()[slice_idx],cmap = 'gray')\n",
    "plt.title('Transformed MRI Image')\n",
    "\n",
    "plt.subplot(3,2,4)\n",
    "plt.imshow(trasimg['mask'].transpose()[slice_idx],cmap = 'gray')\n",
    "plt.title('Transformed Tumor Mask')\n",
    "\n",
    "plt.subplot(3,2,5)\n",
    "msk_image = img_array*msk_array\n",
    "plt.imshow(msk_image[slice_idx],cmap = 'gray')\n",
    "plt.title('Original Tumor Image')\n",
    "\n",
    "trans_msk_img = transforms(image = msk_image.transpose())\n",
    "plt.subplot(3,2,6)\n",
    "plt.imshow(trans_msk_img['image'].transpose()[slice_idx],cmap = 'gray')\n",
    "plt.title('Transformed Tumor Image')\n",
    "\n",
    "plt.savefig('MRI_img.png',bbox_inches = 'tight')"
   ]
  },
  {
   "cell_type": "code",
   "execution_count": 15,
   "metadata": {},
   "outputs": [],
   "source": [
    "def read_image_resize(img_path,msk_path,image_size):\n",
    "    images = []\n",
    "    for i,m in tqdm(zip(img_path,msk_path)):\n",
    "        image = np.load(i)\n",
    "        mask = np.load(m)\n",
    "        ### Resize and load the image\n",
    "        filtered = image * mask\n",
    "        resized_single_image = np.swapaxes(resize(filtered,image_size),2,0)\n",
    "        images.append(resized_single_image)\n",
    "    return images "
   ]
  },
  {
   "cell_type": "code",
   "execution_count": 16,
   "metadata": {},
   "outputs": [],
   "source": [
    "class BrainMet_Dataset(Dataset):\n",
    "    def __init__(self, image_path, mask_path, labels, transform = True, img_size = (32,256,256),load_ram = True):\n",
    "        self.load_ram = load_ram\n",
    "        if load_ram == True:\n",
    "            self.filtered = read_image_resize(image_path,mask_path,img_size)\n",
    "        else:\n",
    "            self.image_path = image_path\n",
    "            self.mask_path = mask_path\n",
    "            \n",
    "        self.labels = labels\n",
    "        self.img_size = img_size\n",
    "        if transform == True:\n",
    "            self.transformation = A.Compose([\n",
    "                A.CenterCrop(width=128, height=128),\n",
    "                A.HorizontalFlip(p=.5),\n",
    "                A.VerticalFlip(p=.5),\n",
    "                A.Rotate(limit = 10, \n",
    "                        value = 0.0, p = .5),\n",
    "            ])\n",
    "            self.transformation = A.Compose([A.CenterCrop(width=128, height=128)])\n",
    "        \n",
    "    def __len__(self):\n",
    "        return len(self.labels)\n",
    "    \n",
    "    def __getitem__(self,index):\n",
    "        y = self.labels[index]\n",
    "        \n",
    "        if self.load_ram == True:\n",
    "            img_array = self.filtered[index]\n",
    "\n",
    "        else:\n",
    "            img_array = np.load(self.image_path[index])\n",
    "            msk_array = np.load(self.mask_path[index])\n",
    "\n",
    "            img_array = (img_array*msk_array).transpose()\n",
    "\n",
    "        \n",
    "        trans = self.transformation(image = img_array)\n",
    "        trans_img = trans['image'].transpose()\n",
    "        ### output should be torch tensor\n",
    "        return torch.tensor([trans_img,trans_img,trans_img],dtype=torch.double), torch.tensor(y,dtype=torch.double)"
   ]
  },
  {
   "cell_type": "code",
   "execution_count": 17,
   "metadata": {},
   "outputs": [],
   "source": [
    "def get_train_valid(subset):\n",
    "    np.random.seed(5)\n",
    "    msk = np.random.rand(len(subset))<0.8\n",
    "    train = subset[msk].reset_index()\n",
    "    valid = subset[~msk].reset_index()\n",
    "    return train,valid\n",
    "\n",
    "train,valid = get_train_valid(meta)\n",
    "# train,valid = get_train_valid(subset)\n"
   ]
  },
  {
   "cell_type": "code",
   "execution_count": 18,
   "metadata": {},
   "outputs": [
    {
     "name": "stderr",
     "output_type": "stream",
     "text": [
      "984it [11:22,  1.44it/s]\n",
      "239it [02:31,  1.57it/s]"
     ]
    },
    {
     "name": "stdout",
     "output_type": "stream",
     "text": [
      "CPU times: user 11min 5s, sys: 2min 37s, total: 13min 43s\n",
      "Wall time: 13min 54s\n"
     ]
    },
    {
     "name": "stderr",
     "output_type": "stream",
     "text": [
      "\n"
     ]
    }
   ],
   "source": [
    "%%time\n",
    "train_ds = BrainMet_Dataset(train['image_path'],train['mask_path'],train['Failure-binary'])\n",
    "valid_ds = BrainMet_Dataset(valid['image_path'],valid['mask_path'],valid['Failure-binary'])\n"
   ]
  },
  {
   "cell_type": "code",
   "execution_count": 19,
   "metadata": {},
   "outputs": [],
   "source": [
    "train_dl = DataLoader(train_ds,batch_size=3,shuffle=True)\n",
    "valid_dl = DataLoader(valid_ds,batch_size=3,shuffle=False)"
   ]
  },
  {
   "cell_type": "code",
   "execution_count": 20,
   "metadata": {
    "scrolled": false
   },
   "outputs": [
    {
     "name": "stdout",
     "output_type": "stream",
     "text": [
      "CPU times: user 938 ms, sys: 77.2 ms, total: 1.02 s\n",
      "Wall time: 521 ms\n"
     ]
    }
   ],
   "source": [
    "%%time\n",
    "a = next(iter(train_dl))"
   ]
  },
  {
   "cell_type": "code",
   "execution_count": 21,
   "metadata": {
    "scrolled": false
   },
   "outputs": [
    {
     "data": {
      "text/plain": [
       "(torch.Size([3, 3, 32, 128, 128]), tensor([0., 0., 0.], dtype=torch.float64))"
      ]
     },
     "execution_count": 21,
     "metadata": {},
     "output_type": "execute_result"
    }
   ],
   "source": [
    "x,y = a\n",
    "x.shape,y"
   ]
  },
  {
   "cell_type": "markdown",
   "metadata": {},
   "source": [
    "## Resnet Model"
   ]
  },
  {
   "cell_type": "code",
   "execution_count": 22,
   "metadata": {},
   "outputs": [],
   "source": [
    "import torchvision.models as models"
   ]
  },
  {
   "cell_type": "code",
   "execution_count": 24,
   "metadata": {},
   "outputs": [],
   "source": [
    "res3d18 = models.video.r3d_18(pretrained=True).to(device)"
   ]
  },
  {
   "cell_type": "code",
   "execution_count": 25,
   "metadata": {
    "scrolled": true
   },
   "outputs": [
    {
     "data": {
      "text/plain": [
       "VideoResNet(\n",
       "  (stem): BasicStem(\n",
       "    (0): Conv3d(3, 64, kernel_size=(3, 7, 7), stride=(1, 2, 2), padding=(1, 3, 3), bias=False)\n",
       "    (1): BatchNorm3d(64, eps=1e-05, momentum=0.1, affine=True, track_running_stats=True)\n",
       "    (2): ReLU(inplace=True)\n",
       "  )\n",
       "  (layer1): Sequential(\n",
       "    (0): BasicBlock(\n",
       "      (conv1): Sequential(\n",
       "        (0): Conv3DSimple(64, 64, kernel_size=(3, 3, 3), stride=(1, 1, 1), padding=(1, 1, 1), bias=False)\n",
       "        (1): BatchNorm3d(64, eps=1e-05, momentum=0.1, affine=True, track_running_stats=True)\n",
       "        (2): ReLU(inplace=True)\n",
       "      )\n",
       "      (conv2): Sequential(\n",
       "        (0): Conv3DSimple(64, 64, kernel_size=(3, 3, 3), stride=(1, 1, 1), padding=(1, 1, 1), bias=False)\n",
       "        (1): BatchNorm3d(64, eps=1e-05, momentum=0.1, affine=True, track_running_stats=True)\n",
       "      )\n",
       "      (relu): ReLU(inplace=True)\n",
       "    )\n",
       "    (1): BasicBlock(\n",
       "      (conv1): Sequential(\n",
       "        (0): Conv3DSimple(64, 64, kernel_size=(3, 3, 3), stride=(1, 1, 1), padding=(1, 1, 1), bias=False)\n",
       "        (1): BatchNorm3d(64, eps=1e-05, momentum=0.1, affine=True, track_running_stats=True)\n",
       "        (2): ReLU(inplace=True)\n",
       "      )\n",
       "      (conv2): Sequential(\n",
       "        (0): Conv3DSimple(64, 64, kernel_size=(3, 3, 3), stride=(1, 1, 1), padding=(1, 1, 1), bias=False)\n",
       "        (1): BatchNorm3d(64, eps=1e-05, momentum=0.1, affine=True, track_running_stats=True)\n",
       "      )\n",
       "      (relu): ReLU(inplace=True)\n",
       "    )\n",
       "  )\n",
       "  (layer2): Sequential(\n",
       "    (0): BasicBlock(\n",
       "      (conv1): Sequential(\n",
       "        (0): Conv3DSimple(64, 128, kernel_size=(3, 3, 3), stride=(2, 2, 2), padding=(1, 1, 1), bias=False)\n",
       "        (1): BatchNorm3d(128, eps=1e-05, momentum=0.1, affine=True, track_running_stats=True)\n",
       "        (2): ReLU(inplace=True)\n",
       "      )\n",
       "      (conv2): Sequential(\n",
       "        (0): Conv3DSimple(128, 128, kernel_size=(3, 3, 3), stride=(1, 1, 1), padding=(1, 1, 1), bias=False)\n",
       "        (1): BatchNorm3d(128, eps=1e-05, momentum=0.1, affine=True, track_running_stats=True)\n",
       "      )\n",
       "      (relu): ReLU(inplace=True)\n",
       "      (downsample): Sequential(\n",
       "        (0): Conv3d(64, 128, kernel_size=(1, 1, 1), stride=(2, 2, 2), bias=False)\n",
       "        (1): BatchNorm3d(128, eps=1e-05, momentum=0.1, affine=True, track_running_stats=True)\n",
       "      )\n",
       "    )\n",
       "    (1): BasicBlock(\n",
       "      (conv1): Sequential(\n",
       "        (0): Conv3DSimple(128, 128, kernel_size=(3, 3, 3), stride=(1, 1, 1), padding=(1, 1, 1), bias=False)\n",
       "        (1): BatchNorm3d(128, eps=1e-05, momentum=0.1, affine=True, track_running_stats=True)\n",
       "        (2): ReLU(inplace=True)\n",
       "      )\n",
       "      (conv2): Sequential(\n",
       "        (0): Conv3DSimple(128, 128, kernel_size=(3, 3, 3), stride=(1, 1, 1), padding=(1, 1, 1), bias=False)\n",
       "        (1): BatchNorm3d(128, eps=1e-05, momentum=0.1, affine=True, track_running_stats=True)\n",
       "      )\n",
       "      (relu): ReLU(inplace=True)\n",
       "    )\n",
       "  )\n",
       "  (layer3): Sequential(\n",
       "    (0): BasicBlock(\n",
       "      (conv1): Sequential(\n",
       "        (0): Conv3DSimple(128, 256, kernel_size=(3, 3, 3), stride=(2, 2, 2), padding=(1, 1, 1), bias=False)\n",
       "        (1): BatchNorm3d(256, eps=1e-05, momentum=0.1, affine=True, track_running_stats=True)\n",
       "        (2): ReLU(inplace=True)\n",
       "      )\n",
       "      (conv2): Sequential(\n",
       "        (0): Conv3DSimple(256, 256, kernel_size=(3, 3, 3), stride=(1, 1, 1), padding=(1, 1, 1), bias=False)\n",
       "        (1): BatchNorm3d(256, eps=1e-05, momentum=0.1, affine=True, track_running_stats=True)\n",
       "      )\n",
       "      (relu): ReLU(inplace=True)\n",
       "      (downsample): Sequential(\n",
       "        (0): Conv3d(128, 256, kernel_size=(1, 1, 1), stride=(2, 2, 2), bias=False)\n",
       "        (1): BatchNorm3d(256, eps=1e-05, momentum=0.1, affine=True, track_running_stats=True)\n",
       "      )\n",
       "    )\n",
       "    (1): BasicBlock(\n",
       "      (conv1): Sequential(\n",
       "        (0): Conv3DSimple(256, 256, kernel_size=(3, 3, 3), stride=(1, 1, 1), padding=(1, 1, 1), bias=False)\n",
       "        (1): BatchNorm3d(256, eps=1e-05, momentum=0.1, affine=True, track_running_stats=True)\n",
       "        (2): ReLU(inplace=True)\n",
       "      )\n",
       "      (conv2): Sequential(\n",
       "        (0): Conv3DSimple(256, 256, kernel_size=(3, 3, 3), stride=(1, 1, 1), padding=(1, 1, 1), bias=False)\n",
       "        (1): BatchNorm3d(256, eps=1e-05, momentum=0.1, affine=True, track_running_stats=True)\n",
       "      )\n",
       "      (relu): ReLU(inplace=True)\n",
       "    )\n",
       "  )\n",
       "  (layer4): Sequential(\n",
       "    (0): BasicBlock(\n",
       "      (conv1): Sequential(\n",
       "        (0): Conv3DSimple(256, 512, kernel_size=(3, 3, 3), stride=(2, 2, 2), padding=(1, 1, 1), bias=False)\n",
       "        (1): BatchNorm3d(512, eps=1e-05, momentum=0.1, affine=True, track_running_stats=True)\n",
       "        (2): ReLU(inplace=True)\n",
       "      )\n",
       "      (conv2): Sequential(\n",
       "        (0): Conv3DSimple(512, 512, kernel_size=(3, 3, 3), stride=(1, 1, 1), padding=(1, 1, 1), bias=False)\n",
       "        (1): BatchNorm3d(512, eps=1e-05, momentum=0.1, affine=True, track_running_stats=True)\n",
       "      )\n",
       "      (relu): ReLU(inplace=True)\n",
       "      (downsample): Sequential(\n",
       "        (0): Conv3d(256, 512, kernel_size=(1, 1, 1), stride=(2, 2, 2), bias=False)\n",
       "        (1): BatchNorm3d(512, eps=1e-05, momentum=0.1, affine=True, track_running_stats=True)\n",
       "      )\n",
       "    )\n",
       "    (1): BasicBlock(\n",
       "      (conv1): Sequential(\n",
       "        (0): Conv3DSimple(512, 512, kernel_size=(3, 3, 3), stride=(1, 1, 1), padding=(1, 1, 1), bias=False)\n",
       "        (1): BatchNorm3d(512, eps=1e-05, momentum=0.1, affine=True, track_running_stats=True)\n",
       "        (2): ReLU(inplace=True)\n",
       "      )\n",
       "      (conv2): Sequential(\n",
       "        (0): Conv3DSimple(512, 512, kernel_size=(3, 3, 3), stride=(1, 1, 1), padding=(1, 1, 1), bias=False)\n",
       "        (1): BatchNorm3d(512, eps=1e-05, momentum=0.1, affine=True, track_running_stats=True)\n",
       "      )\n",
       "      (relu): ReLU(inplace=True)\n",
       "    )\n",
       "  )\n",
       "  (avgpool): AdaptiveAvgPool3d(output_size=(1, 1, 1))\n",
       "  (fc): Linear(in_features=512, out_features=400, bias=True)\n",
       ")"
      ]
     },
     "execution_count": 25,
     "metadata": {},
     "output_type": "execute_result"
    }
   ],
   "source": [
    "res3d18"
   ]
  },
  {
   "cell_type": "code",
   "execution_count": 26,
   "metadata": {},
   "outputs": [],
   "source": [
    "res3d18.fc = nn.Sequential(nn.Linear(in_features=512,out_features=400),\n",
    "                           nn.ReLU(),\n",
    "                           nn.Linear(in_features=400,out_features=1)).to(device)\n"
   ]
  },
  {
   "cell_type": "code",
   "execution_count": 27,
   "metadata": {},
   "outputs": [],
   "source": [
    "for param in res3d18.parameters():\n",
    "    param.requires_grad = False"
   ]
  },
  {
   "cell_type": "code",
   "execution_count": 28,
   "metadata": {},
   "outputs": [],
   "source": [
    "for param in res3d18.fc.parameters():\n",
    "    param.requires_grad = True\n"
   ]
  },
  {
   "cell_type": "code",
   "execution_count": 29,
   "metadata": {
    "scrolled": true
   },
   "outputs": [
    {
     "name": "stdout",
     "output_type": "stream",
     "text": [
      "stem.0.weight gradient is set to False\n",
      "stem.1.weight gradient is set to False\n",
      "stem.1.bias gradient is set to False\n",
      "layer1.0.conv1.0.weight gradient is set to False\n",
      "layer1.0.conv1.1.weight gradient is set to False\n",
      "layer1.0.conv1.1.bias gradient is set to False\n",
      "layer1.0.conv2.0.weight gradient is set to False\n",
      "layer1.0.conv2.1.weight gradient is set to False\n",
      "layer1.0.conv2.1.bias gradient is set to False\n",
      "layer1.1.conv1.0.weight gradient is set to False\n",
      "layer1.1.conv1.1.weight gradient is set to False\n",
      "layer1.1.conv1.1.bias gradient is set to False\n",
      "layer1.1.conv2.0.weight gradient is set to False\n",
      "layer1.1.conv2.1.weight gradient is set to False\n",
      "layer1.1.conv2.1.bias gradient is set to False\n",
      "layer2.0.conv1.0.weight gradient is set to False\n",
      "layer2.0.conv1.1.weight gradient is set to False\n",
      "layer2.0.conv1.1.bias gradient is set to False\n",
      "layer2.0.conv2.0.weight gradient is set to False\n",
      "layer2.0.conv2.1.weight gradient is set to False\n",
      "layer2.0.conv2.1.bias gradient is set to False\n",
      "layer2.0.downsample.0.weight gradient is set to False\n",
      "layer2.0.downsample.1.weight gradient is set to False\n",
      "layer2.0.downsample.1.bias gradient is set to False\n",
      "layer2.1.conv1.0.weight gradient is set to False\n",
      "layer2.1.conv1.1.weight gradient is set to False\n",
      "layer2.1.conv1.1.bias gradient is set to False\n",
      "layer2.1.conv2.0.weight gradient is set to False\n",
      "layer2.1.conv2.1.weight gradient is set to False\n",
      "layer2.1.conv2.1.bias gradient is set to False\n",
      "layer3.0.conv1.0.weight gradient is set to False\n",
      "layer3.0.conv1.1.weight gradient is set to False\n",
      "layer3.0.conv1.1.bias gradient is set to False\n",
      "layer3.0.conv2.0.weight gradient is set to False\n",
      "layer3.0.conv2.1.weight gradient is set to False\n",
      "layer3.0.conv2.1.bias gradient is set to False\n",
      "layer3.0.downsample.0.weight gradient is set to False\n",
      "layer3.0.downsample.1.weight gradient is set to False\n",
      "layer3.0.downsample.1.bias gradient is set to False\n",
      "layer3.1.conv1.0.weight gradient is set to False\n",
      "layer3.1.conv1.1.weight gradient is set to False\n",
      "layer3.1.conv1.1.bias gradient is set to False\n",
      "layer3.1.conv2.0.weight gradient is set to False\n",
      "layer3.1.conv2.1.weight gradient is set to False\n",
      "layer3.1.conv2.1.bias gradient is set to False\n",
      "layer4.0.conv1.0.weight gradient is set to False\n",
      "layer4.0.conv1.1.weight gradient is set to False\n",
      "layer4.0.conv1.1.bias gradient is set to False\n",
      "layer4.0.conv2.0.weight gradient is set to False\n",
      "layer4.0.conv2.1.weight gradient is set to False\n",
      "layer4.0.conv2.1.bias gradient is set to False\n",
      "layer4.0.downsample.0.weight gradient is set to False\n",
      "layer4.0.downsample.1.weight gradient is set to False\n",
      "layer4.0.downsample.1.bias gradient is set to False\n",
      "layer4.1.conv1.0.weight gradient is set to False\n",
      "layer4.1.conv1.1.weight gradient is set to False\n",
      "layer4.1.conv1.1.bias gradient is set to False\n",
      "layer4.1.conv2.0.weight gradient is set to False\n",
      "layer4.1.conv2.1.weight gradient is set to False\n",
      "layer4.1.conv2.1.bias gradient is set to False\n",
      "fc.0.weight gradient is set to True\n",
      "fc.0.bias gradient is set to True\n",
      "fc.2.weight gradient is set to True\n",
      "fc.2.bias gradient is set to True\n"
     ]
    }
   ],
   "source": [
    "for name, param in res3d18.named_parameters():\n",
    "    print(f\"{name} gradient is set to\", param.requires_grad)"
   ]
  },
  {
   "cell_type": "code",
   "execution_count": 36,
   "metadata": {},
   "outputs": [],
   "source": [
    "counts = train['Failure-binary'].value_counts()\n",
    "pos_weight = torch.tensor(counts[0]/counts.sum()).to(device)"
   ]
  },
  {
   "cell_type": "code",
   "execution_count": 31,
   "metadata": {},
   "outputs": [],
   "source": [
    "from sklearn.metrics import roc_auc_score,recall_score,precision_score\n",
    "def train_loop(model,train_dl,valid_dl, optimizer, epochs, loss_best = 1):\n",
    "    for i in tqdm(range(epochs)): ## going through all your training data once\n",
    "        model.train()\n",
    "        losses = []\n",
    "        for x, y in train_dl:\n",
    "            y = y.unsqueeze(1)\n",
    "            x = x.to(device)\n",
    "            y = y.to(device)\n",
    "            y_hat = model(x.float())\n",
    "            loss = F.binary_cross_entropy_with_logits(y_hat, y.float(),pos_weight=pos_weight)\n",
    "            optimizer.zero_grad()\n",
    "            loss.backward()\n",
    "            optimizer.step()\n",
    "            losses.append(loss.item())\n",
    "        \n",
    "        model.eval()\n",
    "        train_loss = np.mean(losses)\n",
    "        valid_loss, valid_acc, valid_roc_auc,precision, recall= val_metric(model, valid_dl)\n",
    "        print(\"train loss %.4f valid loss %.4f valid ROC_AUC %.4f valid ACC %.4f valid Precision %.4f valid Recall %.4f\" % \n",
    "              (train_loss, valid_loss,valid_roc_auc,valid_acc,precision,recall))\n",
    "        if valid_loss < loss_best:\n",
    "            checkpoint = {'model_state_dict': model.state_dict(),\n",
    "                          'optimizer_state_dict' :optimizer.state_dict()}\n",
    "            torch.save(checkpoint, 'res1.pt')\n",
    "            loss_best = valid_loss\n",
    "    return loss_best"
   ]
  },
  {
   "cell_type": "code",
   "execution_count": 38,
   "metadata": {},
   "outputs": [],
   "source": [
    "def val_metric(model, valid_dl):\n",
    "    model.eval()\n",
    "    losses = []\n",
    "    y_preds = []\n",
    "    ys = []\n",
    "    for x, y in valid_dl:  \n",
    "        y = y.unsqueeze(1)\n",
    "        x = x.to(device)\n",
    "        y = y.to(device)\n",
    "        \n",
    "        y_hat = model(x.float())\n",
    "        loss = F.binary_cross_entropy_with_logits(y_hat, y.float(),pos_weight=pos_weight)\n",
    "        y = y.cpu()\n",
    "        y_pred = torch.sigmoid(y_hat).cpu()\n",
    "        y_preds.append(y_pred.detach().numpy())\n",
    "        ys.extend(y.detach().numpy()) \n",
    "        losses.append(loss.item())\n",
    "\n",
    "    ys = np.concatenate(ys)\n",
    "    y_hats = np.concatenate(y_preds)\n",
    "    y_preds_ = np.array([1. if y >=0.5 else 0. for y in y_hats])\n",
    "    correct = (ys == y_preds_).sum()\n",
    "    val_acc = correct/len(ys)\n",
    "    precision = precision_score(ys,y_preds_)\n",
    "    recall = recall_score(ys,y_preds_)\n",
    "\n",
    "    return np.mean(losses), val_acc,roc_auc_score(ys,y_hats),precision,recall"
   ]
  },
  {
   "cell_type": "code",
   "execution_count": 33,
   "metadata": {
    "scrolled": true
   },
   "outputs": [
    {
     "name": "stdout",
     "output_type": "stream",
     "text": [
      "CPU times: user 15 µs, sys: 0 ns, total: 15 µs\n",
      "Wall time: 27.7 µs\n"
     ]
    }
   ],
   "source": [
    "%%time\n",
    "\n",
    "\n",
    "best = 1"
   ]
  },
  {
   "cell_type": "code",
   "execution_count": 34,
   "metadata": {
    "scrolled": true
   },
   "outputs": [],
   "source": [
    "learning_rate = 0.01\n",
    "wd = 1e-4\n",
    "\n",
    "def update_learning_rate(optimizer, lr):\n",
    "    for g in optimizer.param_groups:\n",
    "        g['lr'] = lr\n",
    "\n",
    "optimizer = torch.optim.Adam(res3d18.parameters(), lr=learning_rate,weight_decay= wd)"
   ]
  },
  {
   "cell_type": "code",
   "execution_count": 39,
   "metadata": {},
   "outputs": [
    {
     "name": "stdout",
     "output_type": "stream",
     "text": [
      "1\n"
     ]
    },
    {
     "name": "stderr",
     "output_type": "stream",
     "text": [
      "  0%|                                                     | 0/1 [00:00<?, ?it/s]/home/zengy/.local/lib/python3.8/site-packages/sklearn/metrics/_classification.py:1318: UndefinedMetricWarning: Precision is ill-defined and being set to 0.0 due to no predicted samples. Use `zero_division` parameter to control this behavior.\n",
      "  _warn_prf(average, modifier, msg_start, len(result))\n"
     ]
    },
    {
     "name": "stdout",
     "output_type": "stream",
     "text": [
      "train loss 0.4282 valid loss 0.4616 valid ROC_AUC 0.4809 valid ACC 0.8033 valid Precision 0.0000 valid Recall 0.0000\n"
     ]
    },
    {
     "name": "stderr",
     "output_type": "stream",
     "text": [
      "100%|████████████████████████████████████████████| 1/1 [03:23<00:00, 203.59s/it]"
     ]
    },
    {
     "name": "stdout",
     "output_type": "stream",
     "text": [
      "0.4616494775284082\n",
      "CPU times: user 44min 47s, sys: 4min 52s, total: 49min 40s\n",
      "Wall time: 3min 23s\n"
     ]
    },
    {
     "name": "stderr",
     "output_type": "stream",
     "text": [
      "\n"
     ]
    }
   ],
   "source": [
    "%%time\n",
    "print(best) \n",
    "best = train_loop(res3d18,train_dl,valid_dl,optimizer,epochs = 1,loss_best=best)\n",
    "print(best)\n",
    "#m3.pt"
   ]
  },
  {
   "cell_type": "code",
   "execution_count": 41,
   "metadata": {},
   "outputs": [
    {
     "name": "stdout",
     "output_type": "stream",
     "text": [
      "0.4616494775284082\n"
     ]
    },
    {
     "name": "stderr",
     "output_type": "stream",
     "text": [
      "  0%|                                                     | 0/5 [00:00<?, ?it/s]/home/zengy/.local/lib/python3.8/site-packages/sklearn/metrics/_classification.py:1318: UndefinedMetricWarning: Precision is ill-defined and being set to 0.0 due to no predicted samples. Use `zero_division` parameter to control this behavior.\n",
      "  _warn_prf(average, modifier, msg_start, len(result))\n",
      " 20%|████████▊                                   | 1/5 [03:52<15:30, 232.58s/it]"
     ]
    },
    {
     "name": "stdout",
     "output_type": "stream",
     "text": [
      "train loss 0.4973 valid loss 0.6656 valid ROC_AUC 0.4690 valid ACC 0.8033 valid Precision 0.0000 valid Recall 0.0000\n"
     ]
    },
    {
     "name": "stderr",
     "output_type": "stream",
     "text": [
      "/home/zengy/.local/lib/python3.8/site-packages/sklearn/metrics/_classification.py:1318: UndefinedMetricWarning: Precision is ill-defined and being set to 0.0 due to no predicted samples. Use `zero_division` parameter to control this behavior.\n",
      "  _warn_prf(average, modifier, msg_start, len(result))\n"
     ]
    },
    {
     "name": "stdout",
     "output_type": "stream",
     "text": [
      "train loss 0.4346 valid loss 0.4352 valid ROC_AUC 0.4974 valid ACC 0.8033 valid Precision 0.0000 valid Recall 0.0000\n"
     ]
    },
    {
     "name": "stderr",
     "output_type": "stream",
     "text": [
      " 40%|█████████████████▌                          | 2/5 [07:52<11:51, 237.12s/it]/home/zengy/.local/lib/python3.8/site-packages/sklearn/metrics/_classification.py:1318: UndefinedMetricWarning: Precision is ill-defined and being set to 0.0 due to no predicted samples. Use `zero_division` parameter to control this behavior.\n",
      "  _warn_prf(average, modifier, msg_start, len(result))\n",
      " 60%|██████████████████████████▍                 | 3/5 [11:36<07:41, 230.90s/it]"
     ]
    },
    {
     "name": "stdout",
     "output_type": "stream",
     "text": [
      "train loss 0.4742 valid loss 0.4352 valid ROC_AUC 0.5263 valid ACC 0.8033 valid Precision 0.0000 valid Recall 0.0000\n"
     ]
    },
    {
     "name": "stderr",
     "output_type": "stream",
     "text": [
      "/home/zengy/.local/lib/python3.8/site-packages/sklearn/metrics/_classification.py:1318: UndefinedMetricWarning: Precision is ill-defined and being set to 0.0 due to no predicted samples. Use `zero_division` parameter to control this behavior.\n",
      "  _warn_prf(average, modifier, msg_start, len(result))\n",
      " 80%|███████████████████████████████████▏        | 4/5 [15:25<03:50, 230.27s/it]"
     ]
    },
    {
     "name": "stdout",
     "output_type": "stream",
     "text": [
      "train loss 0.4402 valid loss 0.4357 valid ROC_AUC 0.5178 valid ACC 0.8033 valid Precision 0.0000 valid Recall 0.0000\n"
     ]
    },
    {
     "name": "stderr",
     "output_type": "stream",
     "text": [
      "/home/zengy/.local/lib/python3.8/site-packages/sklearn/metrics/_classification.py:1318: UndefinedMetricWarning: Precision is ill-defined and being set to 0.0 due to no predicted samples. Use `zero_division` parameter to control this behavior.\n",
      "  _warn_prf(average, modifier, msg_start, len(result))\n"
     ]
    },
    {
     "name": "stdout",
     "output_type": "stream",
     "text": [
      "train loss 0.4396 valid loss 0.4349 valid ROC_AUC 0.5080 valid ACC 0.8033 valid Precision 0.0000 valid Recall 0.0000\n"
     ]
    },
    {
     "name": "stderr",
     "output_type": "stream",
     "text": [
      "100%|████████████████████████████████████████████| 5/5 [19:11<00:00, 230.26s/it]"
     ]
    },
    {
     "name": "stdout",
     "output_type": "stream",
     "text": [
      "0.4348992224782705\n",
      "CPU times: user 3h 33min 37s, sys: 24min 48s, total: 3h 58min 25s\n",
      "Wall time: 19min 11s\n"
     ]
    },
    {
     "name": "stderr",
     "output_type": "stream",
     "text": [
      "\n"
     ]
    }
   ],
   "source": [
    "%%time\n",
    "print(best) \n",
    "best = train_loop(res3d18,train_dl,valid_dl,optimizer,epochs = 5,loss_best=best)\n",
    "print(best)\n",
    "#m3.pt"
   ]
  },
  {
   "cell_type": "code",
   "execution_count": 43,
   "metadata": {},
   "outputs": [
    {
     "name": "stdout",
     "output_type": "stream",
     "text": [
      "0.4348992224782705\n"
     ]
    },
    {
     "name": "stderr",
     "output_type": "stream",
     "text": [
      "  0%|                                                    | 0/15 [00:00<?, ?it/s]/home/zengy/.local/lib/python3.8/site-packages/sklearn/metrics/_classification.py:1318: UndefinedMetricWarning: Precision is ill-defined and being set to 0.0 due to no predicted samples. Use `zero_division` parameter to control this behavior.\n",
      "  _warn_prf(average, modifier, msg_start, len(result))\n",
      "  7%|██▊                                        | 1/15 [03:32<49:29, 212.08s/it]"
     ]
    },
    {
     "name": "stdout",
     "output_type": "stream",
     "text": [
      "train loss 0.4124 valid loss 0.4350 valid ROC_AUC 0.5263 valid ACC 0.8033 valid Precision 0.0000 valid Recall 0.0000\n"
     ]
    },
    {
     "name": "stderr",
     "output_type": "stream",
     "text": [
      "/home/zengy/.local/lib/python3.8/site-packages/sklearn/metrics/_classification.py:1318: UndefinedMetricWarning: Precision is ill-defined and being set to 0.0 due to no predicted samples. Use `zero_division` parameter to control this behavior.\n",
      "  _warn_prf(average, modifier, msg_start, len(result))\n",
      " 13%|█████▋                                     | 2/15 [07:06<46:16, 213.59s/it]"
     ]
    },
    {
     "name": "stdout",
     "output_type": "stream",
     "text": [
      "train loss 0.4123 valid loss 0.4351 valid ROC_AUC 0.5262 valid ACC 0.8033 valid Precision 0.0000 valid Recall 0.0000\n"
     ]
    },
    {
     "name": "stderr",
     "output_type": "stream",
     "text": [
      "/home/zengy/.local/lib/python3.8/site-packages/sklearn/metrics/_classification.py:1318: UndefinedMetricWarning: Precision is ill-defined and being set to 0.0 due to no predicted samples. Use `zero_division` parameter to control this behavior.\n",
      "  _warn_prf(average, modifier, msg_start, len(result))\n",
      " 20%|████████▌                                  | 3/15 [10:18<40:42, 203.54s/it]"
     ]
    },
    {
     "name": "stdout",
     "output_type": "stream",
     "text": [
      "train loss 0.4123 valid loss 0.4351 valid ROC_AUC 0.4850 valid ACC 0.8033 valid Precision 0.0000 valid Recall 0.0000\n"
     ]
    },
    {
     "name": "stderr",
     "output_type": "stream",
     "text": [
      "/home/zengy/.local/lib/python3.8/site-packages/sklearn/metrics/_classification.py:1318: UndefinedMetricWarning: Precision is ill-defined and being set to 0.0 due to no predicted samples. Use `zero_division` parameter to control this behavior.\n",
      "  _warn_prf(average, modifier, msg_start, len(result))\n",
      " 27%|███████████▍                               | 4/15 [13:38<37:04, 202.23s/it]"
     ]
    },
    {
     "name": "stdout",
     "output_type": "stream",
     "text": [
      "train loss 0.4123 valid loss 0.4352 valid ROC_AUC 0.4642 valid ACC 0.8033 valid Precision 0.0000 valid Recall 0.0000\n"
     ]
    },
    {
     "name": "stderr",
     "output_type": "stream",
     "text": [
      "/home/zengy/.local/lib/python3.8/site-packages/sklearn/metrics/_classification.py:1318: UndefinedMetricWarning: Precision is ill-defined and being set to 0.0 due to no predicted samples. Use `zero_division` parameter to control this behavior.\n",
      "  _warn_prf(average, modifier, msg_start, len(result))\n",
      " 33%|██████████████▎                            | 5/15 [16:55<33:23, 200.32s/it]"
     ]
    },
    {
     "name": "stdout",
     "output_type": "stream",
     "text": [
      "train loss 0.4122 valid loss 0.4353 valid ROC_AUC 0.5241 valid ACC 0.8033 valid Precision 0.0000 valid Recall 0.0000\n"
     ]
    },
    {
     "name": "stderr",
     "output_type": "stream",
     "text": [
      "/home/zengy/.local/lib/python3.8/site-packages/sklearn/metrics/_classification.py:1318: UndefinedMetricWarning: Precision is ill-defined and being set to 0.0 due to no predicted samples. Use `zero_division` parameter to control this behavior.\n",
      "  _warn_prf(average, modifier, msg_start, len(result))\n",
      " 40%|█████████████████▏                         | 6/15 [20:17<30:09, 201.01s/it]"
     ]
    },
    {
     "name": "stdout",
     "output_type": "stream",
     "text": [
      "train loss 0.4122 valid loss 0.4353 valid ROC_AUC 0.5055 valid ACC 0.8033 valid Precision 0.0000 valid Recall 0.0000\n"
     ]
    },
    {
     "name": "stderr",
     "output_type": "stream",
     "text": [
      "/home/zengy/.local/lib/python3.8/site-packages/sklearn/metrics/_classification.py:1318: UndefinedMetricWarning: Precision is ill-defined and being set to 0.0 due to no predicted samples. Use `zero_division` parameter to control this behavior.\n",
      "  _warn_prf(average, modifier, msg_start, len(result))\n",
      " 47%|████████████████████                       | 7/15 [24:04<27:54, 209.25s/it]"
     ]
    },
    {
     "name": "stdout",
     "output_type": "stream",
     "text": [
      "train loss 0.4122 valid loss 0.4354 valid ROC_AUC 0.5217 valid ACC 0.8033 valid Precision 0.0000 valid Recall 0.0000\n"
     ]
    },
    {
     "name": "stderr",
     "output_type": "stream",
     "text": [
      "/home/zengy/.local/lib/python3.8/site-packages/sklearn/metrics/_classification.py:1318: UndefinedMetricWarning: Precision is ill-defined and being set to 0.0 due to no predicted samples. Use `zero_division` parameter to control this behavior.\n",
      "  _warn_prf(average, modifier, msg_start, len(result))\n",
      " 53%|██████████████████████▉                    | 8/15 [27:50<25:02, 214.66s/it]"
     ]
    },
    {
     "name": "stdout",
     "output_type": "stream",
     "text": [
      "train loss 0.4122 valid loss 0.4353 valid ROC_AUC 0.5057 valid ACC 0.8033 valid Precision 0.0000 valid Recall 0.0000\n"
     ]
    },
    {
     "name": "stderr",
     "output_type": "stream",
     "text": [
      "/home/zengy/.local/lib/python3.8/site-packages/sklearn/metrics/_classification.py:1318: UndefinedMetricWarning: Precision is ill-defined and being set to 0.0 due to no predicted samples. Use `zero_division` parameter to control this behavior.\n",
      "  _warn_prf(average, modifier, msg_start, len(result))\n",
      " 60%|█████████████████████████▊                 | 9/15 [31:23<21:25, 214.28s/it]"
     ]
    },
    {
     "name": "stdout",
     "output_type": "stream",
     "text": [
      "train loss 0.4122 valid loss 0.4354 valid ROC_AUC 0.5368 valid ACC 0.8033 valid Precision 0.0000 valid Recall 0.0000\n"
     ]
    },
    {
     "name": "stderr",
     "output_type": "stream",
     "text": [
      "/home/zengy/.local/lib/python3.8/site-packages/sklearn/metrics/_classification.py:1318: UndefinedMetricWarning: Precision is ill-defined and being set to 0.0 due to no predicted samples. Use `zero_division` parameter to control this behavior.\n",
      "  _warn_prf(average, modifier, msg_start, len(result))\n",
      " 67%|████████████████████████████              | 10/15 [34:43<17:29, 209.94s/it]"
     ]
    },
    {
     "name": "stdout",
     "output_type": "stream",
     "text": [
      "train loss 0.4123 valid loss 0.4354 valid ROC_AUC 0.4389 valid ACC 0.8033 valid Precision 0.0000 valid Recall 0.0000\n"
     ]
    },
    {
     "name": "stderr",
     "output_type": "stream",
     "text": [
      "/home/zengy/.local/lib/python3.8/site-packages/sklearn/metrics/_classification.py:1318: UndefinedMetricWarning: Precision is ill-defined and being set to 0.0 due to no predicted samples. Use `zero_division` parameter to control this behavior.\n",
      "  _warn_prf(average, modifier, msg_start, len(result))\n",
      " 73%|██████████████████████████████▊           | 11/15 [37:48<13:28, 202.13s/it]"
     ]
    },
    {
     "name": "stdout",
     "output_type": "stream",
     "text": [
      "train loss 0.4122 valid loss 0.4355 valid ROC_AUC 0.5368 valid ACC 0.8033 valid Precision 0.0000 valid Recall 0.0000\n"
     ]
    },
    {
     "name": "stderr",
     "output_type": "stream",
     "text": [
      "/home/zengy/.local/lib/python3.8/site-packages/sklearn/metrics/_classification.py:1318: UndefinedMetricWarning: Precision is ill-defined and being set to 0.0 due to no predicted samples. Use `zero_division` parameter to control this behavior.\n",
      "  _warn_prf(average, modifier, msg_start, len(result))\n",
      " 80%|█████████████████████████████████▌        | 12/15 [40:51<09:49, 196.34s/it]"
     ]
    },
    {
     "name": "stdout",
     "output_type": "stream",
     "text": [
      "train loss 0.4124 valid loss 0.4355 valid ROC_AUC 0.5289 valid ACC 0.8033 valid Precision 0.0000 valid Recall 0.0000\n"
     ]
    },
    {
     "name": "stderr",
     "output_type": "stream",
     "text": [
      "/home/zengy/.local/lib/python3.8/site-packages/sklearn/metrics/_classification.py:1318: UndefinedMetricWarning: Precision is ill-defined and being set to 0.0 due to no predicted samples. Use `zero_division` parameter to control this behavior.\n",
      "  _warn_prf(average, modifier, msg_start, len(result))\n",
      " 87%|████████████████████████████████████▍     | 13/15 [43:53<06:23, 191.94s/it]"
     ]
    },
    {
     "name": "stdout",
     "output_type": "stream",
     "text": [
      "train loss 0.4129 valid loss 0.4355 valid ROC_AUC 0.5134 valid ACC 0.8033 valid Precision 0.0000 valid Recall 0.0000\n"
     ]
    },
    {
     "name": "stderr",
     "output_type": "stream",
     "text": [
      "/home/zengy/.local/lib/python3.8/site-packages/sklearn/metrics/_classification.py:1318: UndefinedMetricWarning: Precision is ill-defined and being set to 0.0 due to no predicted samples. Use `zero_division` parameter to control this behavior.\n",
      "  _warn_prf(average, modifier, msg_start, len(result))\n",
      " 93%|███████████████████████████████████████▏  | 14/15 [46:50<03:07, 187.57s/it]"
     ]
    },
    {
     "name": "stdout",
     "output_type": "stream",
     "text": [
      "train loss 0.4136 valid loss 0.4353 valid ROC_AUC 0.4738 valid ACC 0.8033 valid Precision 0.0000 valid Recall 0.0000\n"
     ]
    },
    {
     "name": "stderr",
     "output_type": "stream",
     "text": [
      "/home/zengy/.local/lib/python3.8/site-packages/sklearn/metrics/_classification.py:1318: UndefinedMetricWarning: Precision is ill-defined and being set to 0.0 due to no predicted samples. Use `zero_division` parameter to control this behavior.\n",
      "  _warn_prf(average, modifier, msg_start, len(result))\n",
      "100%|██████████████████████████████████████████| 15/15 [49:53<00:00, 199.58s/it]"
     ]
    },
    {
     "name": "stdout",
     "output_type": "stream",
     "text": [
      "train loss 0.4122 valid loss 0.4394 valid ROC_AUC 0.4859 valid ACC 0.8033 valid Precision 0.0000 valid Recall 0.0000\n",
      "0.4348992224782705\n",
      "CPU times: user 11h 8min 1s, sys: 1h 13min 45s, total: 12h 21min 47s\n",
      "Wall time: 49min 53s\n"
     ]
    },
    {
     "name": "stderr",
     "output_type": "stream",
     "text": [
      "\n"
     ]
    }
   ],
   "source": [
    "%%time\n",
    "def update_learning_rate(optimizer, lr):\n",
    "    for g in optimizer.param_groups:\n",
    "        g['lr'] = lr\n",
    "\n",
    "print(best) \n",
    "update_learning_rate(optimizer, 0.001)\n",
    "best = train_loop(res3d18,train_dl,valid_dl,optimizer,epochs = 15,loss_best=best)\n",
    "print(best)"
   ]
  },
  {
   "cell_type": "code",
   "execution_count": null,
   "metadata": {},
   "outputs": [],
   "source": [
    "%%time\n",
    "print(best) \n",
    "best = train_loop(model,train_dl,valid_dl,optimizer,epochs = 5,loss_best=best)\n",
    "print(best)\n",
    "#m3.pt"
   ]
  },
  {
   "cell_type": "code",
   "execution_count": null,
   "metadata": {},
   "outputs": [],
   "source": [
    "print(val_metric(model, valid_dl))"
   ]
  },
  {
   "cell_type": "code",
   "execution_count": null,
   "metadata": {},
   "outputs": [],
   "source": [
    "%%time\n",
    "#m3.pt\n",
    "print(best) \n",
    "best = train_loop(model,train_dl,valid_dl,optimizer,epochs = 5,loss_best=best)\n",
    "print(best)"
   ]
  },
  {
   "cell_type": "code",
   "execution_count": null,
   "metadata": {},
   "outputs": [],
   "source": [
    "%%time\n",
    "#m3.pt\n",
    "print(best) \n",
    "best = train_loop(model,train_dl,valid_dl,optimizer,epochs = 5,loss_best=best)\n",
    "print(best)"
   ]
  },
  {
   "cell_type": "code",
   "execution_count": null,
   "metadata": {},
   "outputs": [],
   "source": []
  }
 ],
 "metadata": {
  "kernelspec": {
   "display_name": "Python 3 (ipykernel)",
   "language": "python",
   "name": "python3"
  },
  "language_info": {
   "codemirror_mode": {
    "name": "ipython",
    "version": 3
   },
   "file_extension": ".py",
   "mimetype": "text/x-python",
   "name": "python",
   "nbconvert_exporter": "python",
   "pygments_lexer": "ipython3",
   "version": "3.8.12"
  }
 },
 "nbformat": 4,
 "nbformat_minor": 2
}
